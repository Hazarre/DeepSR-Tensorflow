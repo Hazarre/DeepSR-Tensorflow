{
 "cells": [
  {
   "cell_type": "code",
   "execution_count": 9,
   "metadata": {},
   "outputs": [],
   "source": [
    "import os \n",
    "import sys\n",
    "\n",
    "from tensorflow import keras\n",
    "import tensorflow as tf\n",
    "from PIL import Image\n",
    "import numpy as np\n",
    "from model import FSRCNN\n",
    "\n",
    "# Allow local import from parent directory\n",
    "sys.path.insert(0, \"..\")\n",
    "from dataset import deserialize\n",
    "from common import normalize_y\n",
    "\n",
    "SIZE = 100\n",
    "CHN  = 1\n",
    "\n",
    "def preprocess(example): \n",
    "    lr, hr = deserialize(example)\n",
    "    hr = normalize_y(hr)    \n",
    "    lr = normalize_y(lr)\n",
    "    return lr, hr\n",
    "\n"
   ]
  },
  {
   "cell_type": "code",
   "execution_count": 13,
   "metadata": {},
   "outputs": [
    {
     "name": "stdout",
     "output_type": "stream",
     "text": [
      "Epoch 41/50\n",
      "      2/Unknown - 0s 39ms/step - loss: 0.0014  WARNING:tensorflow:Callbacks method `on_train_batch_end` is slow compared to the batch time (batch time: 0.0190s vs `on_train_batch_end` time: 0.0570s). Check your callbacks.\n",
      "  13129/Unknown - 277s 21ms/step - loss: 0.0020\n",
      "Epoch 00041: saving model to checkpoints\\FSRCNN_S041.ckpt\n",
      "13132/13132 [==============================] - 290s 22ms/step - loss: 0.0020 - val_loss: 0.0020\n",
      "Epoch 42/50\n",
      "13131/13132 [============================>.] - ETA: 0s - loss: 0.0020\n",
      "Epoch 00042: saving model to checkpoints\\FSRCNN_S042.ckpt\n",
      "13132/13132 [==============================] - 289s 22ms/step - loss: 0.0020 - val_loss: 0.0020\n",
      "Epoch 43/50\n",
      "13129/13132 [============================>.] - ETA: 0s - loss: 0.0020\n",
      "Epoch 00043: saving model to checkpoints\\FSRCNN_S043.ckpt\n",
      "13132/13132 [==============================] - 290s 22ms/step - loss: 0.0020 - val_loss: 0.0020\n",
      "Epoch 44/50\n",
      "13130/13132 [============================>.] - ETA: 0s - loss: 0.0020\n",
      "Epoch 00044: saving model to checkpoints\\FSRCNN_S044.ckpt\n",
      "13132/13132 [==============================] - 288s 22ms/step - loss: 0.0020 - val_loss: 0.0020\n",
      "Epoch 45/50\n",
      "13130/13132 [============================>.] - ETA: 0s - loss: 0.0020\n",
      "Epoch 00045: saving model to checkpoints\\FSRCNN_S045.ckpt\n",
      "13132/13132 [==============================] - 291s 22ms/step - loss: 0.0020 - val_loss: 0.0020\n",
      "Epoch 46/50\n",
      "13131/13132 [============================>.] - ETA: 0s - loss: 0.0020"
     ]
    }
   ],
   "source": [
    "# config and parameters \n",
    "IS_FSRCNN_S = True    # is FSRCNN_S or FSRCNN\n",
    "RESUME = True    # Train from scratch or use previously traind weights \n",
    "n_tfrecords = 32\n",
    "batch_size = 16\n",
    "epochs = 50\n",
    "\n",
    "# prep the dataset\n",
    "train_dir = [f\"../tfrecords/div2k_train{i}.tfrecords\" for i in range(n_tfrecords)]\n",
    "valid_dir = [f\"../tfrecords/div2k_valid{i}.tfrecords\" for i in range(n_tfrecords)]\n",
    "train_dataset = tf.data.TFRecordDataset(train_dir).map(preprocess).batch(batch_size)\n",
    "valid_dataset = tf.data.TFRecordDataset(valid_dir).map(preprocess).batch(batch_size)\n",
    "\n",
    "# prep the model \n",
    "model = FSRCNN(d=32, s=5, m=1, r=4) if IS_FSRCNN_S else FSRCNN()\n",
    "loss_fn = tf.keras.losses.MeanSquaredError()\n",
    "optimizer = tf.keras.optimizers.Adam(learning_rate=1e-4)\n",
    "model.compile(optimizer, loss=loss_fn)\n",
    "\n",
    "name_model = \"FSRCNN_S\" if IS_FSRCNN_S else \"FSRCNN\"\n",
    "log_dir = f\"logs/{name_model}\"       \n",
    "checkpoint_path  = f\"checkpoints/\"+ name_model+\"{epoch:03d}.ckpt\"\n",
    "\n",
    "\n",
    "if RESUME: \n",
    "    # load pre-trained model \n",
    "    checkpoint_dir = os.path.dirname(checkpoint_path)\n",
    "    latest = tf.train.latest_checkpoint(checkpoint_dir)\n",
    "    model.load_weights(latest)\n",
    "\n",
    "# Training\n",
    "callbacks = [\n",
    "    tf.keras.callbacks.EarlyStopping(monitor = \"val_loss\", \n",
    "                                     patience = 3, \n",
    "                                     restore_best_weights = True),\n",
    "\n",
    "    tf.keras.callbacks.ModelCheckpoint(filepath=checkpoint_path,\n",
    "                                        verbose = 1,\n",
    "                                        monitor=\"loss\",\n",
    "                                        save_freq=\"epoch\"),\n",
    "\n",
    "    tf.keras.callbacks.TensorBoard(log_dir=log_dir, update_freq=\"epoch\")\n",
    "]\n",
    "\n",
    "history = model.fit(train_dataset, \n",
    "           initial_epoch=40, \n",
    "           epochs=epochs, \n",
    "           callbacks=callbacks, \n",
    "           validation_data=valid_dataset)\n"
   ]
  },
  {
   "cell_type": "code",
   "execution_count": 11,
   "metadata": {},
   "outputs": [],
   "source": [
    "\n",
    "def get_latest_model(): \n",
    "    model = FSRCNN(d=32, s=5, m=1, r=4) if IS_FSRCNN_S else FSRCNN()\n",
    "    loss_fn = tf.keras.losses.MeanSquaredError()\n",
    "    optimizer = tf.keras.optimizers.Adam(learning_rate=1e-4)\n",
    "    model.compile(optimizer, loss=loss_fn)\n",
    "\n",
    "    name_model = \"FSRCNN_S\" if IS_FSRCNN_S else \"FSRCNN\"\n",
    "    checkpoint_path  = f\"checkpoints/\"+ name_model+\"{epoch:03d}.ckpt\"\n",
    "    checkpoint_dir = os.path.dirname(checkpoint_path)\n",
    "    latest = tf.train.latest_checkpoint(checkpoint_dir)\n",
    "    model.load_weights(latest)"
   ]
  },
  {
   "cell_type": "code",
   "execution_count": null,
   "metadata": {},
   "outputs": [],
   "source": []
  }
 ],
 "metadata": {
  "interpreter": {
   "hash": "4c232fb63c5daf51f391ec7aa745d18d601770bd1c72af5c1d94ffac76383052"
  },
  "kernelspec": {
   "display_name": "Python 3.6.13 64-bit ('deepsr': conda)",
   "name": "python3"
  },
  "language_info": {
   "codemirror_mode": {
    "name": "ipython",
    "version": 3
   },
   "file_extension": ".py",
   "mimetype": "text/x-python",
   "name": "python",
   "nbconvert_exporter": "python",
   "pygments_lexer": "ipython3",
   "version": "3.6.13"
  },
  "orig_nbformat": 4
 },
 "nbformat": 4,
 "nbformat_minor": 2
}
