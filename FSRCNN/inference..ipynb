{
 "cells": [
  {
   "cell_type": "code",
   "execution_count": 21,
   "metadata": {},
   "outputs": [],
   "source": [
    "import os \n",
    "\n",
    "from tensorflow import keras\n",
    "import tensorflow as tf\n",
    "from PIL import Image\n",
    "import numpy as np\n",
    "\n",
    "from model import FSRCNN"
   ]
  },
  {
   "cell_type": "code",
   "execution_count": 5,
   "metadata": {},
   "outputs": [
    {
     "data": {
      "text/plain": [
       "<tensorflow.python.training.tracking.util.CheckpointLoadStatus at 0x19da77e1978>"
      ]
     },
     "execution_count": 5,
     "metadata": {},
     "output_type": "execute_result"
    }
   ],
   "source": [
    "checkpoint_path = \"training/cp-{epoch:04d}.ckpt\"\n",
    "checkpoint_dir = os.path.dirname(checkpoint_path)\n",
    "\n",
    "os.listdir(checkpoint_dir)\n",
    "latest = tf.train.latest_checkpoint(checkpoint_dir)\n",
    "model = FSRCNN()\n",
    "model.load_weights(latest)"
   ]
  },
  {
   "cell_type": "code",
   "execution_count": 26,
   "metadata": {},
   "outputs": [
    {
     "name": "stdout",
     "output_type": "stream",
     "text": [
      "(2040, 1404)\n",
      "(510, 351)\n",
      "(1, 1404, 2040, 1)\n",
      "(1404, 2040, 3)\n"
     ]
    }
   ],
   "source": [
    "\n",
    "data_dir = '../data/DIV2K/DIV2K_train_HR/'\n",
    "files = os.listdir(data_dir)\n",
    "\n",
    "from skimage.color import rgb2ycbcr, ycbcr2rgb\n",
    "\n",
    "def eval_image(img_dir, upscalers, output_dir):\n",
    "    '''\n",
    "    Function: \n",
    "        Save image stacks of lr, hr, and sr of an image upscaled by methods in upscalers into output_dir \n",
    "    Args: \n",
    "        img_dir: the img to stack \n",
    "        upscalers: a list of upscaling methods \n",
    "        output_dir: the output directory \n",
    "    '''\n",
    "    n = len(upscalers) # two for bicubic and original image\n",
    "    hr = Image.open(img_dir)\n",
    "    # crop image size to the max multiple 4\n",
    "    hr = hr.crop( (0,0, hr.size[0]//4 *4, hr.size[1]//4*4  )   ) \n",
    "    lr = hr.resize((hr.size[0]//4, hr.size[1]//4), Image.BICUBIC)\n",
    "    bi = lr.resize(hr.size, Image.BICUBIC)\n",
    "    dst = Image.new('RGB', (hr.width*(n+2), hr.height))\n",
    "    dst.paste(bi, (0, 0))\n",
    "    for i in range(n):\n",
    "        upscaler = upscalers[i]\n",
    "        sr = upscaler(lr)\n",
    "        dst.paste(sr, (hr.width*(i+1), 0))\n",
    "        \n",
    "        np_sr = postprocess(sr)\n",
    "        np_hr = postprocess(hr)\n",
    "        psnr = peak_signal_noise_ratio(np_hr,np_sr,data_range=255)\n",
    "        ssim = structural_similarity(np_hr, np_sr, data_range=255)\n",
    "        print(\"%.2f / %.2f\" % (psnr, ssim))\n",
    "\n",
    "    dst.paste(hr, (hr.width*(n+1), 0))\n",
    "    dst.save(output_dir)\n",
    "    print(\"Image saved at: \" + output_dir)\n",
    "\n",
    "\n",
    "for f in files: \n",
    "    # load image from path\n",
    "    hr = Image.open(data_dir + f)\n",
    "    hr = hr.crop( (0,0, hr.size[0]//4 *4, hr.size[1]//4*4  )   ) \n",
    "    lr = hr.resize((hr.size[0]//4, hr.size[1]//4), Image.BICUBIC)\n",
    "\n",
    "    \n",
    "    yuv = (rgb2ycbcr(lr) - 16 )/ 219\n",
    "    y = yuv[...,0]\n",
    "    y = y[None,...,None]\n",
    "    y = tf.cast(y, tf.float32)\n",
    "    # the model only deals with y-channel\n",
    "    y_sr = model(y) \n",
    "    \n",
    "    print(hr.size)\n",
    "    print(lr.size)\n",
    "    print(y_sr.shape)\n",
    "\n",
    "    # stich y and uv channels together in the hr space\n",
    "    w, h = yuv.shape[0], yuv.shape[1]\n",
    "    hr = tf.image.resize(yuv, size=[w*4,h*4], method='bicubic', antialias=True) \n",
    "\n",
    "    print(hr.shape)\n",
    "    hr = tf.concat( (y_sr, hr[...,1][None,...,None], hr[...,2][None,...,None]  ) , axis= -1)[0].numpy()* 219 + 16\n",
    "    hr = np.clip(  hr, 16, 235 )\n",
    "\n",
    "    # convert back to rgb\n",
    "    rgb = np.clip( ycbcr2rgb(hr)*255, 0, 255).astype(np.uint8)\n",
    "    Image.fromarray(rgb).show()\n",
    "\n",
    "    bi = lr.resize( (lr.size[0]*4, lr.size[1]*4), Image.BICUBIC)\n",
    "    bi.show()\n",
    "\n",
    "    break\n",
    "\n",
    "   \n",
    "\n"
   ]
  },
  {
   "cell_type": "code",
   "execution_count": 15,
   "metadata": {},
   "outputs": [
    {
     "data": {
      "text/plain": [
       "(351, 510, 3)"
      ]
     },
     "execution_count": 15,
     "metadata": {},
     "output_type": "execute_result"
    }
   ],
   "source": [
    "yuv.shape"
   ]
  },
  {
   "cell_type": "code",
   "execution_count": null,
   "metadata": {},
   "outputs": [],
   "source": []
  }
 ],
 "metadata": {
  "interpreter": {
   "hash": "4c232fb63c5daf51f391ec7aa745d18d601770bd1c72af5c1d94ffac76383052"
  },
  "kernelspec": {
   "display_name": "Python 3.6.13 64-bit ('deepsr': conda)",
   "name": "python3"
  },
  "language_info": {
   "codemirror_mode": {
    "name": "ipython",
    "version": 3
   },
   "file_extension": ".py",
   "mimetype": "text/x-python",
   "name": "python",
   "nbconvert_exporter": "python",
   "pygments_lexer": "ipython3",
   "version": "3.6.13"
  },
  "orig_nbformat": 4
 },
 "nbformat": 4,
 "nbformat_minor": 2
}
